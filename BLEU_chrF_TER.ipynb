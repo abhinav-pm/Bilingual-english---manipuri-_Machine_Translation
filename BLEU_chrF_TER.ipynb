{
 "cells": [
  {
   "cell_type": "markdown",
   "metadata": {},
   "source": [
    "WMT"
   ]
  },
  {
   "cell_type": "code",
   "execution_count": 8,
   "metadata": {},
   "outputs": [
    {
     "name": "stdout",
     "output_type": "stream",
     "text": [
      "3.62504832301805\n",
      "22.751429604203768\n",
      "88.4227260160354\n"
     ]
    }
   ],
   "source": [
    "import evaluate\n",
    "\n",
    "sacrebleu = evaluate.load(\"sacrebleu\")\n",
    "chrf = evaluate.load(\"chrf\")\n",
    "ter = evaluate.load(\"ter\")\n",
    "\n",
    "with open(\"C:/Users/Asus/Downloads/Bi_En-Mn_pred.txt\", \"r\", encoding=\"utf-8\") as f:\n",
    "    pred = f.readlines()\n",
    "\n",
    "with open(\"C:/Users/Asus/Downloads/Bi_En-Mn_tgt.txt\", \"r\", encoding=\"utf-8\") as f:\n",
    "    ref = f.readlines()\n",
    "\n",
    "new_ref = []\n",
    "for sent in ref:\n",
    "    new_ref.append([sent])\n",
    "\n",
    "print(sacrebleu.compute(predictions=pred, references=new_ref)[\"score\"])\n",
    "print(chrf.compute(predictions=pred, references=new_ref)[\"score\"])\n",
    "print(ter.compute(predictions=pred, references=new_ref)[\"score\"])"
   ]
  },
  {
   "cell_type": "code",
   "execution_count": 9,
   "metadata": {},
   "outputs": [
    {
     "data": {
      "text/plain": [
       "['নেসনেল স্কুল সেফটি পোলিসি গাইদলাইনশীং খং\\n',\n",
       " 'এক্ট অসিনা সিষ্টেম অসিগী প্রিমিটিভ ভলনরেবল ত\\n',\n",
       " 'লায়না থোকহনবা হায়জবগী ইতিলোজি ও\\n',\n",
       " 'মহাক অদু মেদিকেল ওফিসর অমদা হকথেংননা\\n']"
      ]
     },
     "execution_count": 9,
     "metadata": {},
     "output_type": "execute_result"
    }
   ],
   "source": [
    "pred[1:5]"
   ]
  },
  {
   "cell_type": "code",
   "execution_count": 10,
   "metadata": {},
   "outputs": [
    {
     "data": {
      "text/plain": [
       "[['নেসনেল স্কুল সেফটি পোলিসি গাইদলাইনশীংগী ইমপ্লিমেন্টেসন অসি ,  নেসনেলগী থাক্তা সর্ব সিক্ষা অভিয়ান পুন্না মোনিটর তৌবা মথৌ তাই ।\\n'],\n",
       " ['এক্ট অসিনা রিহেবিলিটেসনগী প্রিভেন্টিভ অমসুং প্রোমোসনেল ওইবা এস্পেক্ট অনিমক হায়বদি এজুকেসন ,  ইমপ্লোয়মেন্ট অমসুং ভোকেসনেল ত্রেনিং ,  রিজর্ভেসন ,  রিসর্চ এন্ড মেনপাৱর দিভেলপমেন্ট ,  খেৎনবা লৈতবা অকোয়রোন শেম্বা ,  দিসএবল ওইরবা মীওইশীংগী রিহেবিলিটেসন ,  দিসএবলশীংগী অনইমপ্লোয়মেন্ট এলাউএন্স ,  দিসএবল ওইরবা ইমপ্লোয়িশীংগী স্পেসিএল ইন্সুরেন্স স্কিম অমসুং কা-হেন্না দিসএবল ওইরবা মীওইশিংগীদমক হোমশীং লিংখৎপা ,  অসিনচিংবশীং অসি পীরি ।\\n'],\n",
       " ['লায়না শন্দোরকপগী মরম খংদোকপদা\\n'],\n",
       " ['মহাকপু মেদিকেল ওফিসর অমদা রিফর তৌগদবনি ।\\n']]"
      ]
     },
     "execution_count": 10,
     "metadata": {},
     "output_type": "execute_result"
    }
   ],
   "source": [
    "new_ref[1:5]"
   ]
  },
  {
   "cell_type": "code",
   "execution_count": 11,
   "metadata": {},
   "outputs": [
    {
     "name": "stdout",
     "output_type": "stream",
     "text": [
      "8.67913921600907\n",
      "24.239512912799164\n",
      "91.03762423095125\n"
     ]
    }
   ],
   "source": [
    "import evaluate\n",
    "\n",
    "sacrebleu = evaluate.load(\"sacrebleu\")\n",
    "chrf = evaluate.load(\"chrf\")\n",
    "ter = evaluate.load(\"ter\")\n",
    "\n",
    "with open(\"C:/Users/Asus/Downloads/Bi_Mn-En_pred1.txt\", \"r\", encoding=\"utf-8\") as f:\n",
    "    pred = f.readlines()\n",
    "\n",
    "with open(\"C:/Users/Asus/Downloads/Bi_Mn-En_tgt1.txt\", \"r\", encoding=\"utf-8\") as f:\n",
    "    ref = f.readlines()\n",
    "\n",
    "new_ref = []\n",
    "for sent in ref:\n",
    "    new_ref.append([sent])\n",
    "\n",
    "print(sacrebleu.compute(predictions=pred, references=new_ref)[\"score\"])\n",
    "print(chrf.compute(predictions=pred, references=new_ref)[\"score\"])\n",
    "print(ter.compute(predictions=pred, references=new_ref)[\"score\"])"
   ]
  },
  {
   "cell_type": "code",
   "execution_count": 12,
   "metadata": {},
   "outputs": [
    {
     "data": {
      "text/plain": [
       "['national school safety policy guidelines\\n',\n",
       " 'the act talks of rehabilitation ( rehabilitation of a person for rehabilitation )\\n',\n",
       " 'on death of the recipient, the said amount would be refunded at the\\n',\n",
       " 'He will also interact with officers and staff of the medical officer.\\n',\n",
       " 'however, it is fairly uncertain.\\n',\n",
       " 'There are many such aspects which emerged out of these discussions.\\n']"
      ]
     },
     "execution_count": 12,
     "metadata": {},
     "output_type": "execute_result"
    }
   ],
   "source": [
    "pred[1:7]"
   ]
  },
  {
   "cell_type": "code",
   "execution_count": 14,
   "metadata": {},
   "outputs": [
    {
     "data": {
      "text/plain": [
       "[['implementation of national school safety policy guidelines needs to be monitored at the national level jointly by sarva shiksha abhiyan\\n'],\n",
       " ['the act provides for both the preventive and promotional aspects of rehabilitation like education , employment and vocational training , reservation , research and manpower development , creation of barrier- free environment , rehabilitation of persons with disability , unemployment allowance for the disabled , special insurance scheme for the disabled employees and establishment of homes for persons with severe disability etc .\\n'],\n",
       " ['etiology of disease prevalence\\n'],\n",
       " ['she should be referred to a medical officer .\\n'],\n",
       " ['however , its low ambient temperature density results in a low energy per unit volume , therefore requiring the development of advanced storage methods that have potential for higher energy density .\\n'],\n",
       " ['The Prime Minister , Shri Narendra Modi , has condoled the loss of lives due to a fire at Karol Bagh in Delhi .\\n']]"
      ]
     },
     "execution_count": 14,
     "metadata": {},
     "output_type": "execute_result"
    }
   ],
   "source": [
    "new_ref[1:7]"
   ]
  },
  {
   "cell_type": "code",
   "execution_count": 17,
   "metadata": {},
   "outputs": [
    {
     "name": "stdout",
     "output_type": "stream",
     "text": [
      "Collecting nltk\n",
      "  Using cached nltk-3.8.1-py3-none-any.whl (1.5 MB)\n",
      "Collecting click\n",
      "  Using cached click-8.1.7-py3-none-any.whl (97 kB)\n",
      "Collecting joblib\n",
      "  Downloading joblib-1.4.2-py3-none-any.whl (301 kB)\n",
      "     ------------------------------------ 301.8/301.8 kB 981.7 kB/s eta 0:00:00\n",
      "Requirement already satisfied: regex>=2021.8.3 in d:\\iasnlp2\\results\\llamaenv\\lib\\site-packages (from nltk) (2024.5.15)\n",
      "Requirement already satisfied: tqdm in d:\\iasnlp2\\results\\llamaenv\\lib\\site-packages (from nltk) (4.66.4)\n",
      "Requirement already satisfied: colorama in d:\\iasnlp2\\results\\llamaenv\\lib\\site-packages (from click->nltk) (0.4.6)\n",
      "Installing collected packages: joblib, click, nltk\n",
      "Successfully installed click-8.1.7 joblib-1.4.2 nltk-3.8.1\n",
      "Note: you may need to restart the kernel to use updated packages.\n"
     ]
    },
    {
     "name": "stderr",
     "output_type": "stream",
     "text": [
      "\n",
      "[notice] A new release of pip available: 22.3.1 -> 24.1.1\n",
      "[notice] To update, run: python.exe -m pip install --upgrade pip\n"
     ]
    }
   ],
   "source": [
    "pip install nltk"
   ]
  },
  {
   "cell_type": "markdown",
   "metadata": {},
   "source": [
    "I don't the below is correct or not"
   ]
  },
  {
   "cell_type": "code",
   "execution_count": 35,
   "metadata": {},
   "outputs": [
    {
     "data": {
      "text/plain": [
       "{'1-grams': 0.14078400590424234,\n",
       " '1-2-grams': 0.09843264603330451,\n",
       " '1-3-grams': 0.07777628228401559,\n",
       " '1-4-grams': 0.06288675244541236,\n",
       " 'average': 0.0949699216667437}"
      ]
     },
     "execution_count": 35,
     "metadata": {},
     "output_type": "execute_result"
    }
   ],
   "source": [
    "with open(\"D:/tasks/Task2/mT5_Trans_En_Mn_New/Bi_Mn-En_pred1.txt\", \"r\", encoding=\"utf-8\") as f:\n",
    "    pred = f.readlines()\n",
    "\n",
    "with open(\"D:/tasks/Task2/mT5_Trans_En_Mn_New/Bi_Mn-En_tgt1.txt\", \"r\", encoding=\"utf-8\") as f:\n",
    "    ref = f.readlines()\n",
    "\n",
    "# Ensure the references are in the correct format\n",
    "new_ref = [[sent.strip().split()] for sent in ref]\n",
    "pred = [sent.strip().split() for sent in pred]\n",
    "\n",
    "from nltk.translate.bleu_score import corpus_bleu\n",
    "\n",
    "def bleu_score2(tgt_texts, trans_texts):\n",
    "    bleu_dic = {}\n",
    "    bleu_dic['1-grams'] = corpus_bleu(tgt_texts, trans_texts, weights=(1.0, 0, 0, 0))\n",
    "    bleu_dic['1-2-grams'] = corpus_bleu(tgt_texts, trans_texts, weights=(0.5, 0.5, 0, 0))\n",
    "    bleu_dic['1-3-grams'] = corpus_bleu(tgt_texts, trans_texts, weights=(0.33, 0.33, 0.33, 0))\n",
    "    bleu_dic['1-4-grams'] = corpus_bleu(tgt_texts, trans_texts, weights=(0.25, 0.25, 0.25, 0.25))\n",
    "\n",
    "    average_bleu = sum(bleu_dic.values()) / len(bleu_dic)\n",
    "    bleu_dic['average'] = average_bleu\n",
    "\n",
    "    return bleu_dic\n",
    "\n",
    "# Calculate BLEU scores\n",
    "bleu_scores = bleu_score2(new_ref, pred)\n",
    "bleu_scores"
   ]
  },
  {
   "cell_type": "code",
   "execution_count": null,
   "metadata": {},
   "outputs": [],
   "source": []
  }
 ],
 "metadata": {
  "kernelspec": {
   "display_name": "test_env",
   "language": "python",
   "name": "python3"
  },
  "language_info": {
   "codemirror_mode": {
    "name": "ipython",
    "version": 3
   },
   "file_extension": ".py",
   "mimetype": "text/x-python",
   "name": "python",
   "nbconvert_exporter": "python",
   "pygments_lexer": "ipython3",
   "version": "3.11.3"
  }
 },
 "nbformat": 4,
 "nbformat_minor": 2
}
